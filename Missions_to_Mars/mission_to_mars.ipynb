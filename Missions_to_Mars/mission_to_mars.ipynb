{
 "cells": [
  {
   "cell_type": "code",
   "execution_count": 3,
   "id": "bb642d75",
   "metadata": {},
   "outputs": [],
   "source": [
    "%config Completer.use_jedi = False\n",
    "\n",
    "#import dependencies and setup\n",
    "from bs4 import BeautifulSoup as bs\n",
    "from splinter import Browser\n",
    "import pandas as pd\n",
    "from webdriver_manager.chrome import ChromeDriverManager\n",
    "import datetime as de"
   ]
  },
  {
   "cell_type": "code",
   "execution_count": 5,
   "id": "154e80c8",
   "metadata": {},
   "outputs": [
    {
     "name": "stderr",
     "output_type": "stream",
     "text": [
      "\n",
      "\n",
      "====== WebDriver manager ======\n",
      "Current google-chrome version is 92.0.4515\n",
      "Get LATEST driver version for 92.0.4515\n",
      "Driver [/Users/xiaokunyu/.wdm/drivers/chromedriver/mac64/92.0.4515.107/chromedriver] found in cache\n"
     ]
    }
   ],
   "source": [
    "#set up chrome path\n",
    "executable_path = {'executable_path': ChromeDriverManager().install()}\n",
    "browser = Browser('chrome', **executable_path, headless = False)"
   ]
  },
  {
   "cell_type": "markdown",
   "id": "6483bdf4",
   "metadata": {},
   "source": [
    "## Scraping from Mars News Site"
   ]
  },
  {
   "cell_type": "code",
   "execution_count": 6,
   "id": "f013a356",
   "metadata": {},
   "outputs": [],
   "source": [
    "#connect to Mars news site\n",
    "url = \"https://redplanetscience.com\"\n",
    "browser.visit(url)"
   ]
  },
  {
   "cell_type": "code",
   "execution_count": 9,
   "id": "b4c3cd19",
   "metadata": {},
   "outputs": [],
   "source": [
    "#start to scrap the page of mars news\n",
    "html = browser.html\n",
    "soup = bs(html, \"html.parser\")\n",
    "title_content = soup.select_one(\"div\", class_=\"col-md-12\")"
   ]
  },
  {
   "cell_type": "code",
   "execution_count": 11,
   "id": "6be79300",
   "metadata": {},
   "outputs": [
    {
     "name": "stdout",
     "output_type": "stream",
     "text": [
      "All About the Laser (and Microphone) Atop Mars 2020, NASA's Next Rover\n"
     ]
    }
   ],
   "source": [
    "#scrape the first title\n",
    "first_title = title_content.find_all(\"div\", class_='content_title')[0].get_text()\n",
    "print(first_title)"
   ]
  },
  {
   "cell_type": "code",
   "execution_count": 12,
   "id": "1ba4ac80",
   "metadata": {},
   "outputs": [
    {
     "name": "stdout",
     "output_type": "stream",
     "text": [
      "SuperCam is a rock-vaporizing instrument that will help scientists hunt for Mars fossils.\n"
     ]
    }
   ],
   "source": [
    "#crape the first sub-title\n",
    "first_para = title_content.find_all(\"div\", class_='article_teaser_body')[0].get_text()\n",
    "print(first_para)"
   ]
  },
  {
   "cell_type": "markdown",
   "id": "a1acccf8",
   "metadata": {},
   "source": [
    "## Scraping from Mars Space Images"
   ]
  },
  {
   "cell_type": "code",
   "execution_count": 14,
   "id": "098362d2",
   "metadata": {},
   "outputs": [],
   "source": [
    "#connet to spaceimages-mars\n",
    "url = \"https://spaceimages-mars.com/\"\n",
    "browser.visit(url)"
   ]
  },
  {
   "cell_type": "code",
   "execution_count": 15,
   "id": "fbb51fe6",
   "metadata": {},
   "outputs": [],
   "source": [
    "#start to scrap the page of space images\n",
    "html = browser.html\n",
    "soup = bs(html, \"html.parser\")\n",
    "pic_content = soup.select_one(\"div\",class_=\"thmbgroup\")"
   ]
  },
  {
   "cell_type": "code",
   "execution_count": 23,
   "id": "9c378080",
   "metadata": {},
   "outputs": [
    {
     "name": "stdout",
     "output_type": "stream",
     "text": [
      "image/featured/mars1.jpg\n"
     ]
    }
   ],
   "source": [
    "#scrape the href of the page\n",
    "image_url = pic_content.find_all(\"a\",class_=\"fancybox-thumbs\")[0]['href']\n",
    "print(image_url)"
   ]
  },
  {
   "cell_type": "code",
   "execution_count": 25,
   "id": "71493051",
   "metadata": {},
   "outputs": [
    {
     "name": "stdout",
     "output_type": "stream",
     "text": [
      "https://spaceimages-mars.com/image/featured/mars1.jpg\n"
     ]
    }
   ],
   "source": [
    "#store a full html link for picture\n",
    "featured_image_url =f'https://spaceimages-mars.com/{image_url}'\n",
    "print(featured_image_url)"
   ]
  },
  {
   "cell_type": "markdown",
   "id": "8f041393",
   "metadata": {},
   "source": [
    "## Scraping from Mars Facts"
   ]
  },
  {
   "cell_type": "code",
   "execution_count": 26,
   "id": "e4fb9b82",
   "metadata": {},
   "outputs": [],
   "source": [
    "#connet to Mars Facts\n",
    "url = \"https://galaxyfacts-mars.com/\"\n",
    "browser.visit(url)"
   ]
  },
  {
   "cell_type": "code",
   "execution_count": 32,
   "id": "1bc056bc",
   "metadata": {},
   "outputs": [],
   "source": [
    "#start to scrap the table from Mars Facts\n",
    "html = browser.html\n",
    "soup = bs(html, \"html.parser\")\n",
    "table_content = soup.select_one(\"table\", class_=\"table table-striped\")"
   ]
  },
  {
   "cell_type": "code",
   "execution_count": 34,
   "id": "88c701cd",
   "metadata": {},
   "outputs": [],
   "source": [
    "#create the list for table\n",
    "index = []\n",
    "mars_list = []\n",
    "earth_list = []"
   ]
  },
  {
   "cell_type": "code",
   "execution_count": 36,
   "id": "1eb34738",
   "metadata": {},
   "outputs": [
    {
     "name": "stdout",
     "output_type": "stream",
     "text": [
      "[<tr>\n",
      "<th scope=\"row\"><b> Mars - Earth Comparison</b></th>\n",
      "<td><span class=\"orange\"><b> Mars</b></span></td>\n",
      "<td><span class=\"purple\"> <b>Earth </b></span> </td>\n",
      "</tr>, <tr>\n",
      "<th scope=\"row\">Diameter:</th>\n",
      "<td><span class=\"orange\">6,779 km</span></td>\n",
      "<td><span class=\"purple\">12,742 km</span> </td>\n",
      "</tr>, <tr>\n",
      "<th scope=\"row\">Mass:</th>\n",
      "<td><span class=\"orange\">6.39 × 10^23 kg </span></td>\n",
      "<td><span class=\"purple\">5.97 × 10^24 kg</span> </td>\n",
      "</tr>, <tr>\n",
      "<th scope=\"row\">Moons:</th>\n",
      "<td><span class=\"orange\">2</span></td>\n",
      "<td><span class=\"purple\">1</span> </td>\n",
      "</tr>, <tr>\n",
      "<th scope=\"row\">Distance from Sun:</th>\n",
      "<td><span class=\"orange\">227,943,824 km</span></td>\n",
      "<td><span class=\"purple\">149,598,262 km</span> </td>\n",
      "</tr>, <tr>\n",
      "<th scope=\"row\">Length of Year:</th>\n",
      "<td><span class=\"orange\">687 Earth days</span></td>\n",
      "<td><span class=\"purple\">365.24 days</span> </td>\n",
      "</tr>, <tr>\n",
      "<th scope=\"row\">Temperature:</th>\n",
      "<td><span class=\"orange\">-87 to -5 °C</span></td>\n",
      "<td><span class=\"purple\">\t-88 to 58°C</span> </td>\n",
      "</tr>]\n"
     ]
    }
   ],
   "source": [
    "categories = table_content.find_all('tr')\n",
    "print(categories)"
   ]
  },
  {
   "cell_type": "code",
   "execution_count": 30,
   "id": "55a30035",
   "metadata": {},
   "outputs": [],
   "source": [
    "categories = table_content.find_all('tr')\n",
    "for category in categories:\n",
    "    index.append(category.find('th').get_text())\n",
    "    mars_list.append(category.find('td'))\n"
   ]
  },
  {
   "cell_type": "code",
   "execution_count": 31,
   "id": "719fba0f",
   "metadata": {},
   "outputs": [
    {
     "name": "stdout",
     "output_type": "stream",
     "text": [
      "[]\n"
     ]
    }
   ],
   "source": [
    "print(index)"
   ]
  },
  {
   "cell_type": "code",
   "execution_count": null,
   "id": "4bf9f99f",
   "metadata": {},
   "outputs": [],
   "source": []
  }
 ],
 "metadata": {
  "kernelspec": {
   "display_name": "Python [conda env:PythonDate] *",
   "language": "python",
   "name": "conda-env-PythonDate-py"
  },
  "language_info": {
   "codemirror_mode": {
    "name": "ipython",
    "version": 3
   },
   "file_extension": ".py",
   "mimetype": "text/x-python",
   "name": "python",
   "nbconvert_exporter": "python",
   "pygments_lexer": "ipython3",
   "version": "3.6.10"
  }
 },
 "nbformat": 4,
 "nbformat_minor": 5
}
