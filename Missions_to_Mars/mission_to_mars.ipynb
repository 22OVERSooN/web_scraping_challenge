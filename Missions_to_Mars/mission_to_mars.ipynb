{
 "cells": [
  {
   "cell_type": "code",
   "execution_count": 98,
   "id": "a58c4d8f",
   "metadata": {},
   "outputs": [],
   "source": [
    "%config Completer.use_jedi = False\n",
    "\n",
    "#import dependencies and setup\n",
    "from bs4 import BeautifulSoup as bs\n",
    "from splinter import Browser\n",
    "import pandas as pd\n",
    "from webdriver_manager.chrome import ChromeDriverManager\n",
    "import datetime as de"
   ]
  },
  {
   "cell_type": "code",
   "execution_count": 123,
   "id": "e92f83bc",
   "metadata": {},
   "outputs": [
    {
     "name": "stderr",
     "output_type": "stream",
     "text": [
      "\n",
      "\n",
      "====== WebDriver manager ======\n",
      "Current google-chrome version is 92.0.4515\n",
      "Get LATEST driver version for 92.0.4515\n",
      "Driver [/Users/xiaokunyu/.wdm/drivers/chromedriver/mac64/92.0.4515.107/chromedriver] found in cache\n"
     ]
    }
   ],
   "source": [
    "#set up chrome path\n",
    "executable_path = {'executable_path': ChromeDriverManager().install()}\n",
    "browser = Browser('chrome', **executable_path, headless = False)"
   ]
  },
  {
   "cell_type": "markdown",
   "id": "11fe6dcb",
   "metadata": {},
   "source": [
    "## Scraping from Mars News Site"
   ]
  },
  {
   "cell_type": "code",
   "execution_count": 100,
   "id": "8b4d03ae",
   "metadata": {},
   "outputs": [],
   "source": [
    "#connect to Mars news site\n",
    "url = \"https://redplanetscience.com\"\n",
    "browser.visit(url)"
   ]
  },
  {
   "cell_type": "code",
   "execution_count": 101,
   "id": "c56e9aea",
   "metadata": {},
   "outputs": [],
   "source": [
    "#start to scrap the page of mars news\n",
    "html = browser.html\n",
    "soup = bs(html, \"html.parser\")\n",
    "title_content = soup.select_one(\"div\", class_=\"col-md-12\")"
   ]
  },
  {
   "cell_type": "code",
   "execution_count": 102,
   "id": "7439b5b9",
   "metadata": {},
   "outputs": [
    {
     "name": "stdout",
     "output_type": "stream",
     "text": [
      "Heat and Dust Help Launch Martian Water Into Space, Scientists Find\n"
     ]
    }
   ],
   "source": [
    "#scrape the first title\n",
    "first_title = title_content.find_all(\"div\", class_='content_title')[0].get_text()\n",
    "print(first_title)"
   ]
  },
  {
   "cell_type": "code",
   "execution_count": 103,
   "id": "f3c56aae",
   "metadata": {},
   "outputs": [
    {
     "name": "stdout",
     "output_type": "stream",
     "text": [
      "Scientists using an instrument aboard NASA’s Mars Atmosphere and Volatile EvolutioN, or MAVEN, spacecraft have discovered that water vapor near the surface of the Red Planet is lofted higher into the atmosphere than anyone expected was possible. \n"
     ]
    }
   ],
   "source": [
    "#Scrape the first sub-title\n",
    "first_para = title_content.find_all(\"div\", class_='article_teaser_body')[0].get_text()\n",
    "print(first_para)"
   ]
  },
  {
   "cell_type": "markdown",
   "id": "b94ed4bf",
   "metadata": {},
   "source": [
    "## Scraping from Mars Space Images"
   ]
  },
  {
   "cell_type": "code",
   "execution_count": 14,
   "id": "979d452d",
   "metadata": {},
   "outputs": [],
   "source": [
    "#connet to spaceimages-mars\n",
    "url = \"https://spaceimages-mars.com/\"\n",
    "browser.visit(url)"
   ]
  },
  {
   "cell_type": "code",
   "execution_count": 15,
   "id": "b164a824",
   "metadata": {},
   "outputs": [],
   "source": [
    "#start to scrap the page of space images\n",
    "html = browser.html\n",
    "soup = bs(html, \"html.parser\")\n",
    "pic_content = soup.select_one(\"div\",class_=\"thmbgroup\")"
   ]
  },
  {
   "cell_type": "code",
   "execution_count": 23,
   "id": "4997f396",
   "metadata": {},
   "outputs": [
    {
     "name": "stdout",
     "output_type": "stream",
     "text": [
      "image/featured/mars1.jpg\n"
     ]
    }
   ],
   "source": [
    "#scrape the href of the page\n",
    "image_url = pic_content.find_all(\"a\",class_=\"fancybox-thumbs\")[0]['href']\n",
    "print(image_url)"
   ]
  },
  {
   "cell_type": "code",
   "execution_count": 25,
   "id": "1f987c2d",
   "metadata": {},
   "outputs": [
    {
     "name": "stdout",
     "output_type": "stream",
     "text": [
      "https://spaceimages-mars.com/image/featured/mars1.jpg\n"
     ]
    }
   ],
   "source": [
    "#store a full html link for picture\n",
    "featured_image_url =f'https://spaceimages-mars.com/{image_url}'\n",
    "print(featured_image_url)"
   ]
  },
  {
   "cell_type": "markdown",
   "id": "168879df",
   "metadata": {},
   "source": [
    "## Scraping from Mars Facts"
   ]
  },
  {
   "cell_type": "code",
   "execution_count": 104,
   "id": "e7938de8",
   "metadata": {},
   "outputs": [],
   "source": [
    "#connet to Mars Facts\n",
    "url = \"https://galaxyfacts-mars.com/\"\n",
    "browser.visit(url)"
   ]
  },
  {
   "cell_type": "code",
   "execution_count": 117,
   "id": "8772a835",
   "metadata": {},
   "outputs": [
    {
     "name": "stdout",
     "output_type": "stream",
     "text": [
      "  Mars - Earth Comparison             Mars            Earth\n",
      "0               Diameter:         6,779 km        12,742 km\n",
      "1                   Mass:  6.39 × 10^23 kg  5.97 × 10^24 kg\n",
      "2                  Moons:                2                1\n",
      "3      Distance from Sun:   227,943,824 km   149,598,262 km\n",
      "4         Length of Year:   687 Earth days      365.24 days\n",
      "5            Temperature:     -87 to -5 °C      -88 to 58°C\n"
     ]
    }
   ],
   "source": [
    "#start to scrap the table from Mars Facts\n",
    "html = browser.html\n",
    "soup = bs(html, \"html.parser\")\n",
    "mars_facts = pd.read_html(\"https://space-facts.com/mars/\")[1]\n",
    "print(mars_facts)"
   ]
  },
  {
   "cell_type": "code",
   "execution_count": 121,
   "id": "3e308fb5",
   "metadata": {},
   "outputs": [
    {
     "name": "stdout",
     "output_type": "stream",
     "text": [
      "  Mars - Earth Comparison             Mars            Earth\n",
      "0               Diameter:         6,779 km        12,742 km\n",
      "1                   Mass:  6.39 × 10^23 kg  5.97 × 10^24 kg\n",
      "2                  Moons:                2                1\n",
      "3      Distance from Sun:   227,943,824 km   149,598,262 km\n",
      "4         Length of Year:   687 Earth days      365.24 days\n",
      "5            Temperature:     -87 to -5 °C      -88 to 58°C\n"
     ]
    }
   ],
   "source": [
    "mars_facts.set_index(['Mars - Earth Comparison'])\n",
    "print(mars_facts)"
   ]
  },
  {
   "cell_type": "markdown",
   "id": "4fdbbcc9",
   "metadata": {},
   "source": [
    "## Scraping from Mars Hemispheres"
   ]
  },
  {
   "cell_type": "code",
   "execution_count": 124,
   "id": "878c6f42",
   "metadata": {},
   "outputs": [],
   "source": [
    "#connet to cerberus hemispheres\n",
    "url = \"https://marshemispheres.com/cerberus.html\"\n",
    "browser.visit(url)"
   ]
  },
  {
   "cell_type": "code",
   "execution_count": 126,
   "id": "4c6db389",
   "metadata": {},
   "outputs": [
    {
     "name": "stdout",
     "output_type": "stream",
     "text": [
      "Cerberus Hemisphere Enhanced\n"
     ]
    }
   ],
   "source": [
    "#start to scrap the name of cerberus\n",
    "html = browser.html\n",
    "soup = bs(html, \"html.parser\")\n",
    "cerberus = soup.find(\"h2\", class_=\"title\").get_text()\n",
    "print(cerberus)"
   ]
  },
  {
   "cell_type": "code",
   "execution_count": 134,
   "id": "a7ca017d",
   "metadata": {},
   "outputs": [
    {
     "name": "stdout",
     "output_type": "stream",
     "text": [
      "https://marshemispheres.com/images/full.jpg\n"
     ]
    }
   ],
   "source": [
    "#start to scrap the html of cerberus\n",
    "content = browser.find_link_by_text(\"Sample\").first\n",
    "cerberus_link = content['href']\n",
    "print(cerberus_link)"
   ]
  },
  {
   "cell_type": "code",
   "execution_count": 145,
   "id": "440c56b4",
   "metadata": {},
   "outputs": [],
   "source": [
    "cerberus_hem = {\"title\": cerberus, \"img_url\": cerberus_link}"
   ]
  },
  {
   "cell_type": "code",
   "execution_count": 136,
   "id": "8437ec02",
   "metadata": {},
   "outputs": [],
   "source": [
    "#connet to schiaparelli hemispheres\n",
    "url = \"https://marshemispheres.com/schiaparelli.html\"\n",
    "browser.visit(url)"
   ]
  },
  {
   "cell_type": "code",
   "execution_count": 137,
   "id": "2ebb8cc0",
   "metadata": {},
   "outputs": [
    {
     "name": "stdout",
     "output_type": "stream",
     "text": [
      "Schiaparelli Hemisphere Enhanced\n"
     ]
    }
   ],
   "source": [
    "#start to scrap the name of schiaparelli\n",
    "html = browser.html\n",
    "soup = bs(html, \"html.parser\")\n",
    "schiaparelli = soup.find(\"h2\", class_=\"title\").get_text()\n",
    "print(schiaparelli)"
   ]
  },
  {
   "cell_type": "code",
   "execution_count": 138,
   "id": "e0c6cf01",
   "metadata": {},
   "outputs": [
    {
     "name": "stdout",
     "output_type": "stream",
     "text": [
      "https://marshemispheres.com/images/schiaparelli_enhanced-full.jpg\n"
     ]
    }
   ],
   "source": [
    "#start to scrap the html of schiaparelli\n",
    "content = browser.find_link_by_text(\"Sample\").first\n",
    "schiaparelli_link = content['href']\n",
    "print(schiaparelli_link)"
   ]
  },
  {
   "cell_type": "code",
   "execution_count": 147,
   "id": "1cd71a0f",
   "metadata": {},
   "outputs": [],
   "source": [
    "schiaparelli_hem = {\"title\": schiaparelli, \"img_url\": schiaparelli_link}"
   ]
  },
  {
   "cell_type": "code",
   "execution_count": 146,
   "id": "b5c9ee4f",
   "metadata": {},
   "outputs": [],
   "source": [
    "#connet to syrtis major hemispheres\n",
    "url = \"https://marshemispheres.com/syrtis.html\"\n",
    "browser.visit(url)"
   ]
  },
  {
   "cell_type": "code",
   "execution_count": 140,
   "id": "dad06be4",
   "metadata": {},
   "outputs": [
    {
     "name": "stdout",
     "output_type": "stream",
     "text": [
      "Syrtis Major Hemisphere Enhanced\n"
     ]
    }
   ],
   "source": [
    "#start to scrap the name of syrtis major\n",
    "html = browser.html\n",
    "soup = bs(html, \"html.parser\")\n",
    "syrtis = soup.find(\"h2\", class_=\"title\").get_text()\n",
    "print(syrtis)"
   ]
  },
  {
   "cell_type": "code",
   "execution_count": 141,
   "id": "1a116009",
   "metadata": {},
   "outputs": [
    {
     "name": "stdout",
     "output_type": "stream",
     "text": [
      "https://marshemispheres.com/images/syrtis_major_enhanced-full.jpg\n"
     ]
    }
   ],
   "source": [
    "#start to scrap the html of syrtis major\n",
    "content = browser.find_link_by_text(\"Sample\").first\n",
    "syrtis_link = content['href']\n",
    "print(syrtis_link)"
   ]
  },
  {
   "cell_type": "code",
   "execution_count": 148,
   "id": "121bd820",
   "metadata": {},
   "outputs": [],
   "source": [
    "syrtis_hem = {\"title\": syrtis, \"img_url\": syrtis_link}"
   ]
  },
  {
   "cell_type": "code",
   "execution_count": 142,
   "id": "d6a2e1d5",
   "metadata": {},
   "outputs": [],
   "source": [
    "#connet to syrtis valles hemispheres\n",
    "url = \"https://marshemispheres.com/valles.html\"\n",
    "browser.visit(url)"
   ]
  },
  {
   "cell_type": "code",
   "execution_count": 143,
   "id": "7bf6a2d0",
   "metadata": {},
   "outputs": [
    {
     "name": "stdout",
     "output_type": "stream",
     "text": [
      "Valles Marineris Hemisphere Enhanced\n"
     ]
    }
   ],
   "source": [
    "#start to scrap the name of valles major\n",
    "html = browser.html\n",
    "soup = bs(html, \"html.parser\")\n",
    "valles = soup.find(\"h2\", class_=\"title\").get_text()\n",
    "print(valles)"
   ]
  },
  {
   "cell_type": "code",
   "execution_count": 144,
   "id": "67796e5e",
   "metadata": {},
   "outputs": [
    {
     "name": "stdout",
     "output_type": "stream",
     "text": [
      "https://marshemispheres.com/images/valles_marineris_enhanced-full.jpg\n"
     ]
    }
   ],
   "source": [
    "#start to scrap the html of valles\n",
    "content = browser.find_link_by_text(\"Sample\").first\n",
    "valles_link = content['href']\n",
    "print(valles_link)"
   ]
  },
  {
   "cell_type": "code",
   "execution_count": 149,
   "id": "58948896",
   "metadata": {},
   "outputs": [],
   "source": [
    "valles_hem = {\"title\": valles, \"img_url\": valles_link}"
   ]
  },
  {
   "cell_type": "code",
   "execution_count": 152,
   "id": "9391a872",
   "metadata": {},
   "outputs": [],
   "source": [
    "hemisphere_image_urls = []"
   ]
  },
  {
   "cell_type": "code",
   "execution_count": 153,
   "id": "2b4a1029",
   "metadata": {},
   "outputs": [
    {
     "name": "stdout",
     "output_type": "stream",
     "text": [
      "[{'title': 'Cerberus Hemisphere Enhanced', 'img_url': 'https://marshemispheres.com/images/full.jpg'}, {'title': 'Schiaparelli Hemisphere Enhanced', 'img_url': 'https://marshemispheres.com/images/schiaparelli_enhanced-full.jpg'}, {'title': 'Syrtis Major Hemisphere Enhanced', 'img_url': 'https://marshemispheres.com/images/syrtis_major_enhanced-full.jpg'}, {'title': 'Valles Marineris Hemisphere Enhanced', 'img_url': 'https://marshemispheres.com/images/valles_marineris_enhanced-full.jpg'}]\n"
     ]
    }
   ],
   "source": [
    "hemisphere_image_urls.append(cerberus_hem)\n",
    "hemisphere_image_urls.append(schiaparelli_hem)\n",
    "hemisphere_image_urls.append(syrtis_hem)\n",
    "hemisphere_image_urls.append(valles_hem)\n",
    "print(hemisphere_image_urls)"
   ]
  },
  {
   "cell_type": "code",
   "execution_count": 151,
   "id": "e9ac8ae8",
   "metadata": {},
   "outputs": [],
   "source": [
    "browser.quit()"
   ]
  },
  {
   "cell_type": "code",
   "execution_count": null,
   "id": "47f77d94",
   "metadata": {},
   "outputs": [],
   "source": []
  }
 ],
 "metadata": {
  "kernelspec": {
   "display_name": "Python [conda env:PythonDate] *",
   "language": "python",
   "name": "conda-env-PythonDate-py"
  },
  "language_info": {
   "codemirror_mode": {
    "name": "ipython",
    "version": 3
   },
   "file_extension": ".py",
   "mimetype": "text/x-python",
   "name": "python",
   "nbconvert_exporter": "python",
   "pygments_lexer": "ipython3",
   "version": "3.6.10"
  }
 },
 "nbformat": 4,
 "nbformat_minor": 5
}
