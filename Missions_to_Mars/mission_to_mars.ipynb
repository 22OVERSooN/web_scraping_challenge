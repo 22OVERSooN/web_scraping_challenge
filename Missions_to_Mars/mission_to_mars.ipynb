{
 "cells": [
  {
   "cell_type": "code",
   "execution_count": 3,
   "id": "316be7f0",
   "metadata": {},
   "outputs": [],
   "source": [
    "%config Completer.use_jedi = False\n",
    "\n",
    "#import dependencies and setup\n",
    "from bs4 import BeautifulSoup as bs\n",
    "from splinter import Browser\n",
    "import pandas as pd\n",
    "from webdriver_manager.chrome import ChromeDriverManager\n",
    "import datetime as de"
   ]
  },
  {
   "cell_type": "code",
   "execution_count": 5,
   "id": "2c0d5dd3",
   "metadata": {},
   "outputs": [
    {
     "name": "stderr",
     "output_type": "stream",
     "text": [
      "\n",
      "\n",
      "====== WebDriver manager ======\n",
      "Current google-chrome version is 92.0.4515\n",
      "Get LATEST driver version for 92.0.4515\n",
      "Driver [/Users/xiaokunyu/.wdm/drivers/chromedriver/mac64/92.0.4515.107/chromedriver] found in cache\n"
     ]
    }
   ],
   "source": [
    "#set up chrome path\n",
    "executable_path = {'executable_path': ChromeDriverManager().install()}\n",
    "browser = Browser('chrome', **executable_path, headless = False)"
   ]
  },
  {
   "cell_type": "markdown",
   "id": "4a68f17a",
   "metadata": {},
   "source": [
    "## Scraping from Mars News Site"
   ]
  },
  {
   "cell_type": "code",
   "execution_count": 6,
   "id": "9a857063",
   "metadata": {},
   "outputs": [],
   "source": [
    "#connect to Mars news site\n",
    "url = \"https://redplanetscience.com\"\n",
    "browser.visit(url)"
   ]
  },
  {
   "cell_type": "code",
   "execution_count": 9,
   "id": "95dabc8c",
   "metadata": {},
   "outputs": [],
   "source": [
    "#start to scrap the page of mars news\n",
    "html = browser.html\n",
    "soup = bs(html, \"html.parser\")\n",
    "title_content = soup.select_one(\"div\", class_=\"col-md-12\")"
   ]
  },
  {
   "cell_type": "code",
   "execution_count": 11,
   "id": "34aa660d",
   "metadata": {},
   "outputs": [
    {
     "name": "stdout",
     "output_type": "stream",
     "text": [
      "All About the Laser (and Microphone) Atop Mars 2020, NASA's Next Rover\n"
     ]
    }
   ],
   "source": [
    "#scrape the first title\n",
    "first_title = title_content.find_all(\"div\", class_='content_title')[0].get_text()\n",
    "print(first_title)"
   ]
  },
  {
   "cell_type": "code",
   "execution_count": 12,
   "id": "7ecfc89c",
   "metadata": {},
   "outputs": [
    {
     "name": "stdout",
     "output_type": "stream",
     "text": [
      "SuperCam is a rock-vaporizing instrument that will help scientists hunt for Mars fossils.\n"
     ]
    }
   ],
   "source": [
    "#crape the first sub-title\n",
    "first_para = title_content.find_all(\"div\", class_='article_teaser_body')[0].get_text()\n",
    "print(first_para)"
   ]
  },
  {
   "cell_type": "markdown",
   "id": "c646667d",
   "metadata": {},
   "source": [
    "## Scraping from Mars Space Images"
   ]
  },
  {
   "cell_type": "code",
   "execution_count": 14,
   "id": "6057feff",
   "metadata": {},
   "outputs": [],
   "source": [
    "#connet to spaceimages-mars\n",
    "url = \"https://spaceimages-mars.com/\"\n",
    "browser.visit(url)"
   ]
  },
  {
   "cell_type": "code",
   "execution_count": 15,
   "id": "a8eb6a74",
   "metadata": {},
   "outputs": [],
   "source": [
    "#start to scrap the page of space images\n",
    "html = browser.html\n",
    "soup = bs(html, \"html.parser\")\n",
    "pic_content = soup.select_one(\"div\",class_=\"thmbgroup\")"
   ]
  },
  {
   "cell_type": "code",
   "execution_count": 23,
   "id": "92af953d",
   "metadata": {},
   "outputs": [
    {
     "name": "stdout",
     "output_type": "stream",
     "text": [
      "image/featured/mars1.jpg\n"
     ]
    }
   ],
   "source": [
    "#scrape the href of the page\n",
    "image_url = pic_content.find_all(\"a\",class_=\"fancybox-thumbs\")[0]['href']\n",
    "print(image_url)"
   ]
  },
  {
   "cell_type": "code",
   "execution_count": 25,
   "id": "639a3e03",
   "metadata": {},
   "outputs": [
    {
     "name": "stdout",
     "output_type": "stream",
     "text": [
      "https://spaceimages-mars.com/image/featured/mars1.jpg\n"
     ]
    }
   ],
   "source": [
    "#store a full html link for picture\n",
    "featured_image_url =f'https://spaceimages-mars.com/{image_url}'\n",
    "print(featured_image_url)"
   ]
  },
  {
   "cell_type": "markdown",
   "id": "ffd1dd30",
   "metadata": {},
   "source": [
    "## Scraping from Mars Facts"
   ]
  },
  {
   "cell_type": "code",
   "execution_count": 26,
   "id": "89b038bf",
   "metadata": {},
   "outputs": [],
   "source": [
    "#connet to Mars Facts\n",
    "url = \"https://galaxyfacts-mars.com/\"\n",
    "browser.visit(url)"
   ]
  },
  {
   "cell_type": "code",
   "execution_count": 32,
   "id": "34b0426c",
   "metadata": {},
   "outputs": [],
   "source": [
    "#start to scrap the table from Mars Facts\n",
    "html = browser.html\n",
    "soup = bs(html, \"html.parser\")\n",
    "table_content = soup.select_one(\"table\", class_=\"table table-striped\")"
   ]
  },
  {
   "cell_type": "code",
   "execution_count": 45,
   "id": "4a72049f",
   "metadata": {},
   "outputs": [],
   "source": [
    "#create the list for table\n",
    "index = []\n",
    "mars_list = []\n",
    "earth_list = []"
   ]
  },
  {
   "cell_type": "code",
   "execution_count": 41,
   "id": "e1d09536",
   "metadata": {},
   "outputs": [
    {
     "name": "stdout",
     "output_type": "stream",
     "text": [
      "[<tr>\n",
      "<th scope=\"row\"><b> Mars - Earth Comparison</b></th>\n",
      "<td><span class=\"orange\"><b> Mars</b></span></td>\n",
      "<td><span class=\"purple\"> <b>Earth </b></span> </td>\n",
      "</tr>, <tr>\n",
      "<th scope=\"row\">Diameter:</th>\n",
      "<td><span class=\"orange\">6,779 km</span></td>\n",
      "<td><span class=\"purple\">12,742 km</span> </td>\n",
      "</tr>, <tr>\n",
      "<th scope=\"row\">Mass:</th>\n",
      "<td><span class=\"orange\">6.39 × 10^23 kg </span></td>\n",
      "<td><span class=\"purple\">5.97 × 10^24 kg</span> </td>\n",
      "</tr>, <tr>\n",
      "<th scope=\"row\">Moons:</th>\n",
      "<td><span class=\"orange\">2</span></td>\n",
      "<td><span class=\"purple\">1</span> </td>\n",
      "</tr>, <tr>\n",
      "<th scope=\"row\">Distance from Sun:</th>\n",
      "<td><span class=\"orange\">227,943,824 km</span></td>\n",
      "<td><span class=\"purple\">149,598,262 km</span> </td>\n",
      "</tr>, <tr>\n",
      "<th scope=\"row\">Length of Year:</th>\n",
      "<td><span class=\"orange\">687 Earth days</span></td>\n",
      "<td><span class=\"purple\">365.24 days</span> </td>\n",
      "</tr>, <tr>\n",
      "<th scope=\"row\">Temperature:</th>\n",
      "<td><span class=\"orange\">-87 to -5 °C</span></td>\n",
      "<td><span class=\"purple\">\t-88 to 58°C</span> </td>\n",
      "</tr>]\n"
     ]
    }
   ],
   "source": [
    "categories = table_content.find_all('tr')\n",
    "print(categories)"
   ]
  },
  {
   "cell_type": "code",
   "execution_count": 46,
   "id": "619a7ede",
   "metadata": {},
   "outputs": [],
   "source": [
    "for category in categories:\n",
    "    index.append(category.find('th').get_text())\n",
    "    mars_list.append(category.find_all('td')[0].get_text())\n",
    "    earth_list.append(category.find_all('td')[1].get_text())\n"
   ]
  },
  {
   "cell_type": "code",
   "execution_count": 51,
   "id": "40861eaf",
   "metadata": {},
   "outputs": [
    {
     "name": "stdout",
     "output_type": "stream",
     "text": [
      "[' Earth  ', '12,742 km ', '5.97 × 10^24 kg ', '1 ', '149,598,262 km ', '365.24 days ', '\\t-88 to 58°C ']\n"
     ]
    }
   ],
   "source": [
    "print(earth_list)"
   ]
  },
  {
   "cell_type": "code",
   "execution_count": 76,
   "id": "9cac6f46",
   "metadata": {},
   "outputs": [
    {
     "data": {
      "text/html": [
       "<div>\n",
       "<style scoped>\n",
       "    .dataframe tbody tr th:only-of-type {\n",
       "        vertical-align: middle;\n",
       "    }\n",
       "\n",
       "    .dataframe tbody tr th {\n",
       "        vertical-align: top;\n",
       "    }\n",
       "\n",
       "    .dataframe thead th {\n",
       "        text-align: right;\n",
       "    }\n",
       "</style>\n",
       "<table border=\"1\" class=\"dataframe\">\n",
       "  <thead>\n",
       "    <tr style=\"text-align: right;\">\n",
       "      <th></th>\n",
       "      <th>0</th>\n",
       "      <th>1</th>\n",
       "      <th>2</th>\n",
       "    </tr>\n",
       "  </thead>\n",
       "  <tbody>\n",
       "    <tr>\n",
       "      <th>0</th>\n",
       "      <td>Mars - Earth Comparison</td>\n",
       "      <td>Mars</td>\n",
       "      <td>Earth</td>\n",
       "    </tr>\n",
       "    <tr>\n",
       "      <th>1</th>\n",
       "      <td>Diameter:</td>\n",
       "      <td>6,779 km</td>\n",
       "      <td>12,742 km</td>\n",
       "    </tr>\n",
       "    <tr>\n",
       "      <th>2</th>\n",
       "      <td>Mass:</td>\n",
       "      <td>6.39 × 10^23 kg</td>\n",
       "      <td>5.97 × 10^24 kg</td>\n",
       "    </tr>\n",
       "    <tr>\n",
       "      <th>3</th>\n",
       "      <td>Moons:</td>\n",
       "      <td>2</td>\n",
       "      <td>1</td>\n",
       "    </tr>\n",
       "    <tr>\n",
       "      <th>4</th>\n",
       "      <td>Distance from Sun:</td>\n",
       "      <td>227,943,824 km</td>\n",
       "      <td>149,598,262 km</td>\n",
       "    </tr>\n",
       "    <tr>\n",
       "      <th>5</th>\n",
       "      <td>Length of Year:</td>\n",
       "      <td>687 Earth days</td>\n",
       "      <td>365.24 days</td>\n",
       "    </tr>\n",
       "    <tr>\n",
       "      <th>6</th>\n",
       "      <td>Temperature:</td>\n",
       "      <td>-87 to -5 °C</td>\n",
       "      <td>\\t-88 to 58°C</td>\n",
       "    </tr>\n",
       "  </tbody>\n",
       "</table>\n",
       "</div>"
      ],
      "text/plain": [
       "                          0                 1                 2\n",
       "0   Mars - Earth Comparison              Mars           Earth  \n",
       "1                 Diameter:          6,779 km        12,742 km \n",
       "2                     Mass:  6.39 × 10^23 kg   5.97 × 10^24 kg \n",
       "3                    Moons:                 2                1 \n",
       "4        Distance from Sun:    227,943,824 km   149,598,262 km \n",
       "5           Length of Year:    687 Earth days      365.24 days \n",
       "6              Temperature:      -87 to -5 °C    \\t-88 to 58°C "
      ]
     },
     "execution_count": 76,
     "metadata": {},
     "output_type": "execute_result"
    }
   ],
   "source": [
    "df = pd.DataFrame(list(zip(index,mars_list,earth_list)))\n",
    "df"
   ]
  },
  {
   "cell_type": "code",
   "execution_count": 77,
   "id": "4f01b56e",
   "metadata": {},
   "outputs": [
    {
     "data": {
      "text/html": [
       "<div>\n",
       "<style scoped>\n",
       "    .dataframe tbody tr th:only-of-type {\n",
       "        vertical-align: middle;\n",
       "    }\n",
       "\n",
       "    .dataframe tbody tr th {\n",
       "        vertical-align: top;\n",
       "    }\n",
       "\n",
       "    .dataframe thead th {\n",
       "        text-align: right;\n",
       "    }\n",
       "</style>\n",
       "<table border=\"1\" class=\"dataframe\">\n",
       "  <thead>\n",
       "    <tr style=\"text-align: right;\">\n",
       "      <th></th>\n",
       "      <th>Mars</th>\n",
       "      <th>Earth</th>\n",
       "    </tr>\n",
       "    <tr>\n",
       "      <th>0</th>\n",
       "      <th></th>\n",
       "      <th></th>\n",
       "    </tr>\n",
       "  </thead>\n",
       "  <tbody>\n",
       "    <tr>\n",
       "      <th>Mars - Earth Comparison</th>\n",
       "      <td>Mars</td>\n",
       "      <td>Earth</td>\n",
       "    </tr>\n",
       "    <tr>\n",
       "      <th>Diameter:</th>\n",
       "      <td>6,779 km</td>\n",
       "      <td>12,742 km</td>\n",
       "    </tr>\n",
       "    <tr>\n",
       "      <th>Mass:</th>\n",
       "      <td>6.39 × 10^23 kg</td>\n",
       "      <td>5.97 × 10^24 kg</td>\n",
       "    </tr>\n",
       "    <tr>\n",
       "      <th>Moons:</th>\n",
       "      <td>2</td>\n",
       "      <td>1</td>\n",
       "    </tr>\n",
       "    <tr>\n",
       "      <th>Distance from Sun:</th>\n",
       "      <td>227,943,824 km</td>\n",
       "      <td>149,598,262 km</td>\n",
       "    </tr>\n",
       "    <tr>\n",
       "      <th>Length of Year:</th>\n",
       "      <td>687 Earth days</td>\n",
       "      <td>365.24 days</td>\n",
       "    </tr>\n",
       "    <tr>\n",
       "      <th>Temperature:</th>\n",
       "      <td>-87 to -5 °C</td>\n",
       "      <td>\\t-88 to 58°C</td>\n",
       "    </tr>\n",
       "  </tbody>\n",
       "</table>\n",
       "</div>"
      ],
      "text/plain": [
       "                                      Mars             Earth\n",
       "0                                                           \n",
       " Mars - Earth Comparison              Mars           Earth  \n",
       "Diameter:                         6,779 km        12,742 km \n",
       "Mass:                     6.39 × 10^23 kg   5.97 × 10^24 kg \n",
       "Moons:                                   2                1 \n",
       "Distance from Sun:          227,943,824 km   149,598,262 km \n",
       "Length of Year:             687 Earth days      365.24 days \n",
       "Temperature:                  -87 to -5 °C    \\t-88 to 58°C "
      ]
     },
     "execution_count": 77,
     "metadata": {},
     "output_type": "execute_result"
    }
   ],
   "source": [
    "df = df.set_index(0)\n",
    "df.columns = ['Mars', 'Earth']\n",
    "df"
   ]
  },
  {
   "cell_type": "code",
   "execution_count": 78,
   "id": "d7efcf36",
   "metadata": {},
   "outputs": [
    {
     "name": "stderr",
     "output_type": "stream",
     "text": [
      "/Users/xiaokunyu/opt/anaconda3/envs/PythonDate/lib/python3.6/site-packages/pandas/core/indexing.py:671: SettingWithCopyWarning: \n",
      "A value is trying to be set on a copy of a slice from a DataFrame\n",
      "\n",
      "See the caveats in the documentation: https://pandas.pydata.org/pandas-docs/stable/user_guide/indexing.html#returning-a-view-versus-a-copy\n",
      "  self._setitem_with_indexer(indexer, value)\n",
      "/Users/xiaokunyu/.local/lib/python3.6/site-packages/ipykernel_launcher.py:3: SettingWithCopyWarning: \n",
      "A value is trying to be set on a copy of a slice from a DataFrame\n",
      "\n",
      "See the caveats in the documentation: https://pandas.pydata.org/pandas-docs/stable/user_guide/indexing.html#returning-a-view-versus-a-copy\n",
      "  This is separate from the ipykernel package so we can avoid doing imports until\n"
     ]
    },
    {
     "data": {
      "text/html": [
       "<div>\n",
       "<style scoped>\n",
       "    .dataframe tbody tr th:only-of-type {\n",
       "        vertical-align: middle;\n",
       "    }\n",
       "\n",
       "    .dataframe tbody tr th {\n",
       "        vertical-align: top;\n",
       "    }\n",
       "\n",
       "    .dataframe thead th {\n",
       "        text-align: right;\n",
       "    }\n",
       "</style>\n",
       "<table border=\"1\" class=\"dataframe\">\n",
       "  <thead>\n",
       "    <tr style=\"text-align: right;\">\n",
       "      <th></th>\n",
       "      <th>Mars</th>\n",
       "      <th>Earth</th>\n",
       "    </tr>\n",
       "    <tr>\n",
       "      <th>Mars-Earth Comparison</th>\n",
       "      <th></th>\n",
       "      <th></th>\n",
       "    </tr>\n",
       "  </thead>\n",
       "  <tbody>\n",
       "    <tr>\n",
       "      <th>Diameter:</th>\n",
       "      <td>6,779 km</td>\n",
       "      <td>12,742 km</td>\n",
       "    </tr>\n",
       "    <tr>\n",
       "      <th>Mass:</th>\n",
       "      <td>6.39 × 10^23 kg</td>\n",
       "      <td>5.97 × 10^24 kg</td>\n",
       "    </tr>\n",
       "    <tr>\n",
       "      <th>Moons:</th>\n",
       "      <td>2</td>\n",
       "      <td>1</td>\n",
       "    </tr>\n",
       "    <tr>\n",
       "      <th>Distance from Sun:</th>\n",
       "      <td>227,943,824 km</td>\n",
       "      <td>149,598,262 km</td>\n",
       "    </tr>\n",
       "    <tr>\n",
       "      <th>Length of Year:</th>\n",
       "      <td>687 Earth days</td>\n",
       "      <td>365.24 days</td>\n",
       "    </tr>\n",
       "    <tr>\n",
       "      <th>Temperature:</th>\n",
       "      <td>-87 to -5 °C</td>\n",
       "      <td>-88 to 58°C</td>\n",
       "    </tr>\n",
       "  </tbody>\n",
       "</table>\n",
       "</div>"
      ],
      "text/plain": [
       "                                   Mars             Earth\n",
       "Mars-Earth Comparison                                    \n",
       "Diameter:                      6,779 km        12,742 km \n",
       "Mass:                  6.39 × 10^23 kg   5.97 × 10^24 kg \n",
       "Moons:                                2                1 \n",
       "Distance from Sun:       227,943,824 km   149,598,262 km \n",
       "Length of Year:          687 Earth days      365.24 days \n",
       "Temperature:               -87 to -5 °C       -88 to 58°C"
      ]
     },
     "execution_count": 78,
     "metadata": {},
     "output_type": "execute_result"
    }
   ],
   "source": [
    "df.index.name = 'Mars-Earth Comparison'\n",
    "df = df.iloc[1:,:]\n",
    "df.loc['Temperature:','Earth'] = '-88 to 58°C'\n",
    "df"
   ]
  },
  {
   "cell_type": "code",
   "execution_count": 79,
   "id": "334d8fb3",
   "metadata": {},
   "outputs": [],
   "source": [
    "df.to_html('table.html', index = True, classes=['table', 'table-striped','table-hover'])"
   ]
  },
  {
   "cell_type": "markdown",
   "id": "71216f73",
   "metadata": {},
   "source": [
    "## Scraping from Mars Hemispheres"
   ]
  },
  {
   "cell_type": "code",
   "execution_count": 80,
   "id": "32e54d3c",
   "metadata": {},
   "outputs": [],
   "source": [
    "#connet to Mars Facts\n",
    "url = \"https://marshemispheres.com\"\n",
    "browser.visit(url)"
   ]
  },
  {
   "cell_type": "code",
   "execution_count": null,
   "id": "a06f7ae0",
   "metadata": {},
   "outputs": [],
   "source": [
    "#start to scrap the table from Mars Facts\n",
    "html = browser.html\n",
    "soup = bs(html, \"html.parser\")\n",
    "table_content = soup.select_one(\"table\", class_=\"table table-striped\")"
   ]
  }
 ],
 "metadata": {
  "kernelspec": {
   "display_name": "Python [conda env:PythonDate] *",
   "language": "python",
   "name": "conda-env-PythonDate-py"
  },
  "language_info": {
   "codemirror_mode": {
    "name": "ipython",
    "version": 3
   },
   "file_extension": ".py",
   "mimetype": "text/x-python",
   "name": "python",
   "nbconvert_exporter": "python",
   "pygments_lexer": "ipython3",
   "version": "3.6.10"
  }
 },
 "nbformat": 4,
 "nbformat_minor": 5
}
