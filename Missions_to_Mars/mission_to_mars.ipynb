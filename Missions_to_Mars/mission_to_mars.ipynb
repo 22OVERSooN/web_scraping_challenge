{
 "cells": [
  {
   "cell_type": "code",
   "execution_count": null,
   "id": "481d5b8e",
   "metadata": {},
   "outputs": [],
   "source": [
    "#import dependencies and setup\n",
    "from bs4 import BeaurifulSoup as bs\n",
    "from splinter import Browser\n",
    "import pandas as pd\n",
    "from webdriver_manager.chrome import ChromeDriver Manager\n",
    "import datetime as de"
   ]
  },
  {
   "cell_type": "code",
   "execution_count": null,
   "id": "9a21d06f",
   "metadata": {},
   "outputs": [],
   "source": []
  }
 ],
 "metadata": {
  "kernelspec": {
   "display_name": "Python [conda env:PythonDate] *",
   "language": "python",
   "name": "conda-env-PythonDate-py"
  },
  "language_info": {
   "codemirror_mode": {
    "name": "ipython",
    "version": 3
   },
   "file_extension": ".py",
   "mimetype": "text/x-python",
   "name": "python",
   "nbconvert_exporter": "python",
   "pygments_lexer": "ipython3",
   "version": "3.6.10"
  }
 },
 "nbformat": 4,
 "nbformat_minor": 5
}
